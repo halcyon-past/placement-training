{
  "nbformat": 4,
  "nbformat_minor": 0,
  "metadata": {
    "colab": {
      "provenance": []
    },
    "kernelspec": {
      "name": "python3",
      "display_name": "Python 3"
    },
    "language_info": {
      "name": "python"
    }
  },
  "cells": [
    {
      "cell_type": "markdown",
      "source": [
        "# Object Oriented Programming in PYTHON"
      ],
      "metadata": {
        "id": "5xphvno4L9N0"
      }
    },
    {
      "cell_type": "markdown",
      "source": [
        "### Q1) What is Object-Oriented Programming (OOP)?\n",
        "- Ans: Object-Oriented Programming is a programming paradigm that organizes code into objects, which are instances of classes. It emphasizes concepts like inheritance, encapsulation, polymorphism, and abstraction to improve code reusability and maintainability."
      ],
      "metadata": {
        "id": "TRENFYD4MCBP"
      }
    },
    {
      "cell_type": "code",
      "source": [
        "class Dog:\n",
        "    def __init__(self, name, age):\n",
        "        self.name = name\n",
        "        self.age = age\n",
        "\n",
        "    def bark(self):\n",
        "        print(f\"{self.name} says Woof!\")\n",
        "\n",
        "# Creating an object\n",
        "dog1 = Dog(\"Buddy\", 3)\n",
        "dog1.bark()  # Output: Buddy says Woof!\n"
      ],
      "metadata": {
        "colab": {
          "base_uri": "https://localhost:8080/"
        },
        "id": "r5o08MpXMQDV",
        "outputId": "ed1fa573-3ec7-4def-c1a2-a48cc97dc1d7"
      },
      "execution_count": null,
      "outputs": [
        {
          "output_type": "stream",
          "name": "stdout",
          "text": [
            "Buddy says Woof!\n"
          ]
        }
      ]
    },
    {
      "cell_type": "markdown",
      "source": [
        "### Q2) What is a class?\n",
        "- Ans: A class is a blueprint or template that defines the structure and behavior of objects. It serves as a user-defined data type and encapsulates data (attributes) and methods (functions) that operate on that data.\n",
        "\n"
      ],
      "metadata": {
        "id": "FPecSmfoMgzJ"
      }
    },
    {
      "cell_type": "markdown",
      "source": [
        "### Q3) What is an object?\n",
        "- Ans: An object is an instance of a class. It represents a real-world entity and can hold its own state (attributes) and behavior (methods) defined by the class."
      ],
      "metadata": {
        "id": "107CUdHdMljt"
      }
    },
    {
      "cell_type": "markdown",
      "source": [
        "### Q4) What is inheritance?\n",
        "- Ans: Inheritance is a mechanism where one class (subclass or derived class) acquires properties and behaviors from another class (superclass or base class). It promotes code reusability and establishes an \"is-a\" relationship between classes.\n",
        "\n"
      ],
      "metadata": {
        "id": "jw0e5m8iM8pm"
      }
    },
    {
      "cell_type": "code",
      "source": [
        "class Animal:\n",
        "    def __init__(self, name):\n",
        "        self.name = name\n",
        "\n",
        "    def speak(self):\n",
        "        pass\n",
        "\n",
        "class Dog(Animal):\n",
        "    def speak(self):\n",
        "        return f\"{self.name} says Woof!\"\n",
        "\n",
        "class Cat(Animal):\n",
        "    def speak(self):\n",
        "        return f\"{self.name} says Meow!\"\n",
        "\n",
        "dog = Dog(\"Buddy\")\n",
        "cat = Cat(\"Whiskers\")\n",
        "print(dog.speak())  # Output: Buddy says Woof!\n",
        "print(cat.speak())  # Output: Whiskers says Meow!\n"
      ],
      "metadata": {
        "colab": {
          "base_uri": "https://localhost:8080/"
        },
        "id": "LchA7gdjNHol",
        "outputId": "6396a37f-e9eb-4541-9845-e58afc47b22e"
      },
      "execution_count": null,
      "outputs": [
        {
          "output_type": "stream",
          "name": "stdout",
          "text": [
            "Buddy says Woof!\n",
            "Whiskers says Meow!\n"
          ]
        }
      ]
    },
    {
      "cell_type": "markdown",
      "source": [
        "### Q5) Explain the different types of inheritance.\n",
        "\n",
        "- Ans: The main types of inheritance are:\n",
        "  - Single Inheritance: A subclass inherits from a single superclass.\n",
        "  - Multiple Inheritance: A subclass inherits from multiple superclasses (supported by some languages like C++).\n",
        "  - Multilevel Inheritance: A class is derived from another class, which, in turn, is derived from a base class.\n",
        "  - Hierarchical Inheritance: Multiple subclasses inherit from a single superclass.\n",
        "\n"
      ],
      "metadata": {
        "id": "VXr7M7KDNLOI"
      }
    },
    {
      "cell_type": "markdown",
      "source": [
        "#### Single Inheritance"
      ],
      "metadata": {
        "id": "n250oYJZNxjj"
      }
    },
    {
      "cell_type": "code",
      "source": [
        "# A subclass inherits from a single superclass.\n",
        "\n",
        "class Animal:\n",
        "    def eat(self):\n",
        "        print(\"Eating\")\n",
        "\n",
        "class Dog(Animal):\n",
        "    def bark(self):\n",
        "        print(\"Barking\")\n",
        "\n",
        "dog = Dog()\n",
        "dog.eat()   # Output: Eating\n",
        "dog.bark()  # Output: Barking\n"
      ],
      "metadata": {
        "colab": {
          "base_uri": "https://localhost:8080/"
        },
        "id": "BPlKkgofN_lZ",
        "outputId": "e9659238-258e-4640-cf5f-9d482b5d244e"
      },
      "execution_count": null,
      "outputs": [
        {
          "output_type": "stream",
          "name": "stdout",
          "text": [
            "Eating\n",
            "Barking\n"
          ]
        }
      ]
    },
    {
      "cell_type": "markdown",
      "source": [
        "#### Multiple Inheritance"
      ],
      "metadata": {
        "id": "tcDe471ZOOId"
      }
    },
    {
      "cell_type": "code",
      "source": [
        "# A subclass inherits from multiple superclasses.\n",
        "\n",
        "class Base1:\n",
        "    def __init__(self):\n",
        "        self.str1 = \"Base1\"\n",
        "        print(\"Base1 Initialized\")\n",
        "\n",
        "class Base2:\n",
        "    def __init__(self):\n",
        "        self.str2 = \"Base2\"\n",
        "        print(\"Base2 Initialized\")\n",
        "\n",
        "class Derived(Base1, Base2):\n",
        "    def __init__(self):\n",
        "        Base1.__init__(self)\n",
        "        Base2.__init__(self)\n",
        "        print(\"Derived\")\n",
        "\n",
        "    def printStrs(self):\n",
        "        print(self.str1, self.str2, \"-> Printing the Strs\")\n",
        "\n",
        "obj = Derived()\n",
        "obj.printStrs()  # Output: Base1 Base2 Derived \\n Base1 Base2\n",
        "\n"
      ],
      "metadata": {
        "colab": {
          "base_uri": "https://localhost:8080/"
        },
        "id": "OzNori7HOdPM",
        "outputId": "6a57a54d-b1ab-40dc-8bae-a45911e40e21"
      },
      "execution_count": 2,
      "outputs": [
        {
          "output_type": "stream",
          "name": "stdout",
          "text": [
            "Base1 Initialized\n",
            "Base2 Initialized\n",
            "Derived\n",
            "Base1 Base2 -> Printing the Strs\n"
          ]
        }
      ]
    },
    {
      "cell_type": "markdown",
      "source": [
        "#### Multilevel Inheritance"
      ],
      "metadata": {
        "id": "5u-89afAPHZo"
      }
    },
    {
      "cell_type": "code",
      "source": [
        "# A class is derived from another class, which, in turn, is derived from a base class.\n",
        "\n",
        "class Animal:\n",
        "    def eat(self):\n",
        "        print(\"Eating\")\n",
        "\n",
        "class Mammal(Animal):\n",
        "    def walk(self):\n",
        "        print(\"Walking\")\n",
        "\n",
        "class Dog(Mammal):\n",
        "    def bark(self):\n",
        "        print(\"Barking\")\n",
        "\n",
        "dog = Dog()\n",
        "dog.eat()   # Output: Eating\n",
        "dog.walk()  # Output: Walking\n",
        "dog.bark()  # Output: Barking\n"
      ],
      "metadata": {
        "colab": {
          "base_uri": "https://localhost:8080/"
        },
        "id": "yoLz2BYCPRGt",
        "outputId": "e1a2cee6-fe85-4a42-a46d-b2caf083ffad"
      },
      "execution_count": null,
      "outputs": [
        {
          "output_type": "stream",
          "name": "stdout",
          "text": [
            "Eating\n",
            "Walking\n",
            "Barking\n"
          ]
        }
      ]
    },
    {
      "cell_type": "markdown",
      "source": [
        "#### Hierarchical Inheritance"
      ],
      "metadata": {
        "id": "fd923EuMPck1"
      }
    },
    {
      "cell_type": "code",
      "source": [
        "# Multiple subclasses inherit from a single superclass.\n",
        "\n",
        "class Animal:\n",
        "    def eat(self):\n",
        "        print(\"Eating\")\n",
        "\n",
        "class Dog(Animal):\n",
        "    def bark(self):\n",
        "        print(\"Barking\")\n",
        "\n",
        "class Cat(Animal):\n",
        "    def meow(self):\n",
        "        print(\"Meowing\")\n",
        "\n",
        "dog = Dog()\n",
        "cat = Cat()\n",
        "\n",
        "dog.eat()   # Output: Eating\n",
        "dog.bark()  # Output: Barking\n",
        "\n",
        "cat.eat()   # Output: Eating\n",
        "cat.meow()  # Output: Meowing\n"
      ],
      "metadata": {
        "colab": {
          "base_uri": "https://localhost:8080/"
        },
        "id": "fGgZr5mIPgAB",
        "outputId": "a07bdde9-bf0b-43af-e28b-d9838e7cd9d9"
      },
      "execution_count": null,
      "outputs": [
        {
          "output_type": "stream",
          "name": "stdout",
          "text": [
            "Eating\n",
            "Barking\n",
            "Eating\n",
            "Meowing\n"
          ]
        }
      ]
    },
    {
      "cell_type": "markdown",
      "source": [
        "### Q6) What is encapsulation?\n",
        "- Ans: Encapsulation is the bundling of data (attributes) and methods (functions) that operate on the data within a single unit (i.e., the class). It restricts access to the data by providing public interfaces (public methods) to interact with the object's state. Encapsulation helps in data hiding and protecting the internal state of an object."
      ],
      "metadata": {
        "id": "Nb4qYwHwQlXZ"
      }
    },
    {
      "cell_type": "code",
      "source": [
        "# Encapsulation is about Hiding Internal Complexity\n",
        "\n",
        "class Person:\n",
        "    def __init__(self, name, age):\n",
        "        self.name = name\n",
        "        self.__age = age  # Private attribute\n",
        "\n",
        "    def get_age(self):\n",
        "        return self.__age\n",
        "\n",
        "    def set_age(self, age):\n",
        "        if age > 0:\n",
        "            self.__age = age\n",
        "        else:\n",
        "            print(\"Age must be positive\")\n",
        "\n",
        "person = Person(\"Alice\", 30)\n",
        "print(person.get_age())  # Output: 30\n",
        "person.set_age(35)\n",
        "print(person.get_age())  # Output: 35\n"
      ],
      "metadata": {
        "colab": {
          "base_uri": "https://localhost:8080/"
        },
        "id": "_ae7UkatQqte",
        "outputId": "c6d5d706-6ae3-420a-b3d2-e075f7ae4c3d"
      },
      "execution_count": 3,
      "outputs": [
        {
          "output_type": "stream",
          "name": "stdout",
          "text": [
            "30\n",
            "35\n"
          ]
        }
      ]
    },
    {
      "cell_type": "markdown",
      "source": [
        "### Q7) What is polymorphism?\n",
        "- Ans: Polymorphism allows objects of different classes to be treated as objects of a common superclass. It enables a single interface to represent multiple types of objects. Polymorphism is achieved through method overloading (compile-time polymorphism) and method overriding (runtime polymorphism)."
      ],
      "metadata": {
        "id": "m05GuavsQ1j6"
      }
    },
    {
      "cell_type": "code",
      "source": [
        "class Bird:\n",
        "    def fly(self):\n",
        "        print(\"Bird is flying\")\n",
        "\n",
        "class Sparrow(Bird):\n",
        "    def fly(self):\n",
        "        print(\"Sparrow is flying\")\n",
        "\n",
        "class Ostrich(Bird):\n",
        "    def fly(self):\n",
        "        print(\"Ostrich can't fly\")\n",
        "\n",
        "birds = [Bird(), Sparrow(), Ostrich()]\n",
        "\n",
        "for bird in birds:\n",
        "    bird.fly()\n",
        "# Output:\n",
        "# Bird is flying\n",
        "# Sparrow is flying\n",
        "# Ostrich can't fly\n"
      ],
      "metadata": {
        "colab": {
          "base_uri": "https://localhost:8080/"
        },
        "id": "dWpjBURZQ8Rg",
        "outputId": "c0c59bdd-63d6-4737-afdd-8cb17fc9a235"
      },
      "execution_count": null,
      "outputs": [
        {
          "output_type": "stream",
          "name": "stdout",
          "text": [
            "Bird is flying\n",
            "Sparrow is flying\n",
            "Ostrich can't fly\n"
          ]
        }
      ]
    },
    {
      "cell_type": "markdown",
      "source": [
        "### Q8) What is abstraction?\n",
        "- Ans: Abstraction is the process of hiding the implementation details of an object and exposing only the relevant features or behavior. It allows developers to work with high-level concepts and ignore low-level implementation complexities.\n",
        "\n"
      ],
      "metadata": {
        "id": "8XTZzMU2RAfL"
      }
    },
    {
      "cell_type": "markdown",
      "source": [
        "#### Q9) What are abstract classes?\n",
        "- Ans: An abstract class is a class that cannot be instantiated directly and may contain one or more abstract methods. Abstract methods are declared without implementation and must be implemented by subclasses."
      ],
      "metadata": {
        "id": "Dt_phARNRQJb"
      }
    },
    {
      "cell_type": "code",
      "source": [
        "from abc import ABC, abstractmethod\n",
        "\n",
        "class Shape(ABC):\n",
        "    @abstractmethod\n",
        "    def area(self):\n",
        "        pass\n",
        "\n",
        "    @abstractmethod\n",
        "    def perimeter(self):\n",
        "        pass\n",
        "\n",
        "class Rectangle(Shape):\n",
        "    def __init__(self, width, height):\n",
        "        self.width = width\n",
        "        self.height = height\n",
        "\n",
        "    def area(self):\n",
        "        return self.width * self.height\n",
        "\n",
        "    def perimeter(self):\n",
        "        return 2 * (self.width + self.height)\n",
        "\n",
        "class Circle(Shape):\n",
        "    def __init__(self,radius):\n",
        "      self.radius = radius\n",
        "\n",
        "    def area(self):\n",
        "      return 3.14 * self.radius * self.radius\n",
        "\n",
        "    def perimeter(self):\n",
        "      return 2 * 3.14 * self.radius\n",
        "\n",
        "rect = Rectangle(5, 10)\n",
        "print(rect.area())       # Output: 50\n",
        "print(rect.perimeter())  # Output: 30\n",
        "\n",
        "circle = Circle(7)\n",
        "print(circle.area())\n",
        "print(circle.perimeter())\n"
      ],
      "metadata": {
        "colab": {
          "base_uri": "https://localhost:8080/"
        },
        "id": "BAfbZ5wYRIAa",
        "outputId": "ee6996fd-eff9-4cb0-df96-b79587f4ef12"
      },
      "execution_count": 4,
      "outputs": [
        {
          "output_type": "stream",
          "name": "stdout",
          "text": [
            "50\n",
            "30\n",
            "153.86\n",
            "43.96\n"
          ]
        }
      ]
    },
    {
      "cell_type": "markdown",
      "source": [
        "### Q10) What is the difference between method overloading and method overriding?\n",
        "- Ans: Method overloading occurs when a class has multiple methods with the same name but different parameter lists. The appropriate method is determined at compile time based on the method signature. Method overriding occurs when a subclass provides a specific implementation for a method that is already defined in its superclass. The decision on which method to call is made at runtime based on the actual object type."
      ],
      "metadata": {
        "id": "YGKfedc-RwKf"
      }
    },
    {
      "cell_type": "code",
      "source": [
        "# Method OverLoading\n",
        "# Python does not support method overloading directly. You can achieve similar functionality using default arguments.\n",
        "\n",
        "class Math:\n",
        "    def add(self, a, b, c=0):\n",
        "        return a + b + c\n",
        "\n",
        "math = Math()\n",
        "print(math.add(2, 3))       # Output: 5\n",
        "print(math.add(2, 3, 4))    # Output: 9\n"
      ],
      "metadata": {
        "colab": {
          "base_uri": "https://localhost:8080/"
        },
        "id": "wkkRSYUZR4zM",
        "outputId": "506657a4-4797-4bd4-fa23-972b70beafe8"
      },
      "execution_count": null,
      "outputs": [
        {
          "output_type": "stream",
          "name": "stdout",
          "text": [
            "5\n",
            "9\n"
          ]
        }
      ]
    },
    {
      "cell_type": "code",
      "source": [
        "# Method Overriding\n",
        "\n",
        "class Parent:\n",
        "    def show(self):\n",
        "        print(\"Parent method\")\n",
        "\n",
        "class Child(Parent):\n",
        "    def show(self):\n",
        "        print(\"Child method\")\n",
        "\n",
        "child = Child()\n",
        "child.show()  # Output: Child method\n"
      ],
      "metadata": {
        "colab": {
          "base_uri": "https://localhost:8080/"
        },
        "id": "c31Sfl65R8ww",
        "outputId": "ef80b205-4881-47a2-d300-85bef4c6cb21"
      },
      "execution_count": null,
      "outputs": [
        {
          "output_type": "stream",
          "name": "stdout",
          "text": [
            "Child method\n"
          ]
        }
      ]
    },
    {
      "cell_type": "markdown",
      "source": [
        "### QUESTION\n",
        "- Create a class \"BankAccount\" with attributes account number and balance. Implement methods to deposit and withdraw funds, and a display method to show the account details."
      ],
      "metadata": {
        "id": "_IT2m1Jtq02M"
      }
    },
    {
      "cell_type": "code",
      "source": [
        "\n",
        "\n",
        "class BankAccount:\n",
        "    def __init__(self, account_number, balance=0):\n",
        "        self.account_number = account_number\n",
        "        self.balance = balance\n",
        "\n",
        "    def deposit(self,amount):\n",
        "        self.balance += amount\n",
        "\n",
        "    def withdraw(self,amount):\n",
        "        if amount <= self.balance:\n",
        "            self.balance -= amount\n",
        "        else:\n",
        "            print(\"Insufficient Balance\")\n",
        "\n",
        "    def show(self):\n",
        "        print(f\"Account Number: {self.account_number}\")\n",
        "        print(f\"Balance: {self.balance}\")\n",
        "\n",
        "print(\"Rupkatha's Transactions\")\n",
        "Rupkatha = BankAccount(\"21BCE6075\",1000)\n",
        "Rupkatha.deposit(500)\n",
        "Rupkatha.withdraw(60)\n",
        "Rupkatha.show()\n",
        "\n",
        "print(\"\\nAritro's Transactions\")\n",
        "Aritro = BankAccount(\"21BLC1174\",100)\n",
        "Aritro.deposit(10)\n",
        "Aritro.withdraw(200)\n",
        "Aritro.show()\n",
        "\n",
        ""
      ],
      "metadata": {
        "colab": {
          "base_uri": "https://localhost:8080/"
        },
        "id": "DTGPapYHl8vG",
        "outputId": "912f8ee2-b229-4b05-c1bb-08eb4159d305"
      },
      "execution_count": 7,
      "outputs": [
        {
          "output_type": "stream",
          "name": "stdout",
          "text": [
            "Rupkatha's Transactions\n",
            "Account Number: 21BCE6075\n",
            "Balance: 1440\n",
            "\n",
            "Aritro's Transactions\n",
            "Insufficient Balance\n",
            "Account Number: 21BLC1174\n",
            "Balance: 110\n"
          ]
        }
      ]
    }
  ]
}