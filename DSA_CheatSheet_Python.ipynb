{
 "cells": [
  {
   "cell_type": "markdown",
   "id": "8a7fde56-8778-4478-9584-3d3cd898a7bf",
   "metadata": {},
   "source": [
    "# Data Structures Cheatsheet for python\n",
    "- Made by Aritro Saha"
   ]
  },
  {
   "cell_type": "markdown",
   "id": "da2e2029-1c1c-4e63-86e7-43e409118296",
   "metadata": {},
   "source": [
    "## Arrays"
   ]
  },
  {
   "cell_type": "code",
   "execution_count": 1,
   "id": "ab9971e7-6385-4ff9-9b38-f0ee4a696207",
   "metadata": {},
   "outputs": [
    {
     "name": "stdout",
     "output_type": "stream",
     "text": [
      "1\n",
      "2\n",
      "3\n",
      "4\n",
      "5\n"
     ]
    }
   ],
   "source": [
    "arr = [1, 2, 3, 4, 5]\n",
    "for i in range(len(arr)):\n",
    "    print(arr[i])"
   ]
  },
  {
   "cell_type": "code",
   "execution_count": 2,
   "id": "242bdd96-0325-4d79-9da3-9c87334a21fd",
   "metadata": {},
   "outputs": [],
   "source": [
    "index = 1\n",
    "value = 3"
   ]
  },
  {
   "cell_type": "code",
   "execution_count": 3,
   "id": "de5822aa-ea24-47ac-ace5-d3df594078be",
   "metadata": {},
   "outputs": [
    {
     "name": "stdout",
     "output_type": "stream",
     "text": [
      "[1, 3, 2, 3, 4, 5]\n"
     ]
    }
   ],
   "source": [
    "arr.insert(index, value)\n",
    "print(arr)"
   ]
  },
  {
   "cell_type": "code",
   "execution_count": 4,
   "id": "3c8cb4da-c6f3-4357-a1c6-a960ac7bdc21",
   "metadata": {},
   "outputs": [
    {
     "name": "stdout",
     "output_type": "stream",
     "text": [
      "[1, 2, 3, 4, 5]\n"
     ]
    }
   ],
   "source": [
    "arr.remove(value)\n",
    "print(arr)"
   ]
  },
  {
   "cell_type": "markdown",
   "id": "466e9b51-d86b-4a3a-9ddf-a01ce50480b7",
   "metadata": {},
   "source": [
    "## Linked List"
   ]
  },
  {
   "cell_type": "code",
   "execution_count": 5,
   "id": "8b48c628-f566-4ecf-89d5-8227fe134663",
   "metadata": {},
   "outputs": [],
   "source": [
    "class Node:\n",
    "    def __init__(self, data):\n",
    "        self.data = data\n",
    "        self.next = None"
   ]
  },
  {
   "cell_type": "code",
   "execution_count": 15,
   "id": "8ae4057c-fbfa-4674-ac28-37e5a43bbe43",
   "metadata": {},
   "outputs": [],
   "source": [
    "class LinkedList:\n",
    "    def __init__(self):\n",
    "        self.head = None"
   ]
  },
  {
   "cell_type": "markdown",
   "id": "9bc1f7a2-cb3f-44e9-9602-dc43f257a24d",
   "metadata": {},
   "source": [
    "### Insert at Begining"
   ]
  },
  {
   "cell_type": "code",
   "execution_count": 6,
   "id": "9217fe69-a3da-42c5-826e-5f2ade67439f",
   "metadata": {},
   "outputs": [],
   "source": [
    "def insert_at_beginning(self, data):\n",
    "    new_node = Node(data)\n",
    "    new_node.next = self.head\n",
    "    self.head = new_node"
   ]
  },
  {
   "cell_type": "markdown",
   "id": "e0f04348-35b3-4e8f-9e9e-9405f7648a6b",
   "metadata": {},
   "source": [
    "### Insert at End"
   ]
  },
  {
   "cell_type": "code",
   "execution_count": 7,
   "id": "32e67239-1357-4917-9b3b-9e8450984366",
   "metadata": {},
   "outputs": [],
   "source": [
    "def insert_at_end(self, data):\n",
    "    new_node = Node(data)\n",
    "    if not self.head:\n",
    "        self.head = new_node\n",
    "        return\n",
    "    last = self.head\n",
    "    while last.next:\n",
    "        last = last.next\n",
    "    last.next = new_node"
   ]
  },
  {
   "cell_type": "markdown",
   "id": "65a61afb-d257-4f27-a586-7c0fe2e25c38",
   "metadata": {},
   "source": [
    "### Insertion after a node"
   ]
  },
  {
   "cell_type": "code",
   "execution_count": 8,
   "id": "d4e2e857-e9e5-4b54-b4aa-66e7ac7720af",
   "metadata": {},
   "outputs": [],
   "source": [
    "def insert_after(self, prev_node, data):\n",
    "    if not prev_node:\n",
    "        print(\"Previous node is required\")\n",
    "        return\n",
    "    new_node = Node(data)\n",
    "    new_node.next = prev_node.next\n",
    "    prev_node.next = new_node"
   ]
  },
  {
   "cell_type": "markdown",
   "id": "08a4885f-a5e2-4c80-a60e-99e1e51ba8e2",
   "metadata": {},
   "source": [
    "### Deletion"
   ]
  },
  {
   "cell_type": "code",
   "execution_count": 9,
   "id": "2534184c-6697-4b65-8837-ed5924cb8f9f",
   "metadata": {},
   "outputs": [],
   "source": [
    "def delete_node(self, key):\n",
    "    temp = self.head\n",
    "    if temp and temp.data == key:\n",
    "        self.head = temp.next\n",
    "        temp = None\n",
    "        return\n",
    "    prev = None\n",
    "    while temp and temp.data != key:\n",
    "        prev = temp\n",
    "        temp = temp.next\n",
    "    if temp is None:\n",
    "        return\n",
    "    prev.next = temp.next\n",
    "    temp = None"
   ]
  },
  {
   "cell_type": "markdown",
   "id": "1c271006-8057-4254-8547-8687415d244e",
   "metadata": {},
   "source": [
    "### Searching"
   ]
  },
  {
   "cell_type": "code",
   "execution_count": 10,
   "id": "ac394b03-f5da-4e53-8b50-64ac6820c003",
   "metadata": {},
   "outputs": [],
   "source": [
    "def search(self, key):\n",
    "    current = self.head\n",
    "    while current:\n",
    "        if current.data == key:\n",
    "            return True\n",
    "        current = current.next\n",
    "    return False"
   ]
  },
  {
   "cell_type": "markdown",
   "id": "b23036e2-4263-42d6-9e72-9283d609fb95",
   "metadata": {},
   "source": [
    "### Traversal"
   ]
  },
  {
   "cell_type": "code",
   "execution_count": 11,
   "id": "a6be163a-6363-45fa-aa63-6a8f1b887e7b",
   "metadata": {},
   "outputs": [],
   "source": [
    "def traverse(self):\n",
    "    current = self.head\n",
    "    while current:\n",
    "        print(current.data, end=\" -> \")\n",
    "        current = current.next\n",
    "    print(\"None\")"
   ]
  },
  {
   "cell_type": "markdown",
   "id": "f41e3ddd-f20a-4028-894f-74c08e14419c",
   "metadata": {},
   "source": [
    "## Doubly Linked List"
   ]
  },
  {
   "cell_type": "code",
   "execution_count": 13,
   "id": "8795b4c0-ed8d-4d68-bd68-622d0e2f9f2e",
   "metadata": {},
   "outputs": [],
   "source": [
    "class DoublyNode:\n",
    "    def __init__(self, data):\n",
    "        self.data = data\n",
    "        self.next = None\n",
    "        self.prev = None"
   ]
  },
  {
   "cell_type": "code",
   "execution_count": 14,
   "id": "c46f2703-c1b5-4837-a551-10253ff78243",
   "metadata": {},
   "outputs": [],
   "source": [
    "class DoublyLinkedList:\n",
    "    def __init__(self):\n",
    "        self.head = None"
   ]
  },
  {
   "cell_type": "markdown",
   "id": "608d8d7f-afee-43a9-a6e0-8978d75537f9",
   "metadata": {},
   "source": [
    "### Insert at Begining"
   ]
  },
  {
   "cell_type": "code",
   "execution_count": 12,
   "id": "b5c7b398-d609-4978-8a55-61465ddd6299",
   "metadata": {},
   "outputs": [],
   "source": [
    "def insert_at_beginning(self, data):\n",
    "    new_node = DoublyNode(data)\n",
    "    new_node.next = self.head\n",
    "    if self.head is not None:\n",
    "        self.head.prev = new_node\n",
    "    self.head = new_node"
   ]
  },
  {
   "cell_type": "markdown",
   "id": "8f8054fe-a956-440f-b63f-4ad62ad88a60",
   "metadata": {},
   "source": [
    "### Insert at End"
   ]
  },
  {
   "cell_type": "code",
   "execution_count": 16,
   "id": "2b3cfaf6-dfad-4c14-b000-fb6902592b54",
   "metadata": {},
   "outputs": [],
   "source": [
    "def insert_at_end(self, data):\n",
    "    new_node = DoublyNode(data)\n",
    "    if not self.head:\n",
    "        self.head = new_node\n",
    "        return\n",
    "    last = self.head\n",
    "    while last.next:\n",
    "        last = last.next\n",
    "    last.next = new_node\n",
    "    new_node.prev = last"
   ]
  },
  {
   "cell_type": "markdown",
   "id": "0be92db8-7c5a-42dd-a515-41f208a11005",
   "metadata": {},
   "source": [
    "### Deletion"
   ]
  },
  {
   "cell_type": "code",
   "execution_count": 17,
   "id": "133cb95d-88c3-44c4-a4c0-5e8c349bc229",
   "metadata": {},
   "outputs": [],
   "source": [
    "def delete_node(self, key):\n",
    "    temp = self.head\n",
    "    while temp and temp.data != key:\n",
    "        temp = temp.next\n",
    "    if temp is None:\n",
    "        return\n",
    "    if temp.prev:\n",
    "        temp.prev.next = temp.next\n",
    "    if temp.next:\n",
    "        temp.next.prev = temp.prev\n",
    "    if temp == self.head:\n",
    "        self.head = temp.next\n",
    "    temp = None"
   ]
  },
  {
   "cell_type": "markdown",
   "id": "3fc281bc-75ea-4bac-b95d-39bd5257b945",
   "metadata": {},
   "source": [
    "### Traversal Forward"
   ]
  },
  {
   "cell_type": "code",
   "execution_count": 18,
   "id": "abe639b1-863b-440e-b0c6-7b6a55b50cac",
   "metadata": {},
   "outputs": [],
   "source": [
    "def traverse_forward(self):\n",
    "    current = self.head\n",
    "    while current:\n",
    "        print(current.data, end=\" -> \")\n",
    "        current = current.next\n",
    "    print(\"None\")"
   ]
  },
  {
   "cell_type": "markdown",
   "id": "f9fc80a6-ae19-4a57-ab2a-978ed797aac7",
   "metadata": {},
   "source": [
    "### Traversal Backward"
   ]
  },
  {
   "cell_type": "code",
   "execution_count": 20,
   "id": "6cca3b0b-8520-48c9-82de-d6d6b70fc335",
   "metadata": {},
   "outputs": [],
   "source": [
    "def traverse_backward(self):\n",
    "    last = self.head\n",
    "    if last is None:\n",
    "        return\n",
    "    while last.next:\n",
    "        last = last.next\n",
    "    while last:\n",
    "        print(last.data, end=\" -> \")\n",
    "        last = last.prev\n",
    "    print(\"None\")"
   ]
  },
  {
   "cell_type": "code",
   "execution_count": null,
   "id": "61e49516-b58c-4a20-b4f2-a7e69f2d405c",
   "metadata": {},
   "outputs": [],
   "source": []
  }
 ],
 "metadata": {
  "kernelspec": {
   "display_name": "Python 3 (ipykernel)",
   "language": "python",
   "name": "python3"
  },
  "language_info": {
   "codemirror_mode": {
    "name": "ipython",
    "version": 3
   },
   "file_extension": ".py",
   "mimetype": "text/x-python",
   "name": "python",
   "nbconvert_exporter": "python",
   "pygments_lexer": "ipython3",
   "version": "3.12.3"
  }
 },
 "nbformat": 4,
 "nbformat_minor": 5
}
